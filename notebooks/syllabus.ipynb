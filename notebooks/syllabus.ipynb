{
 "metadata": {
  "name": "syllabus"
 },
 "nbformat": 3,
 "nbformat_minor": 0,
 "worksheets": [
  {
   "cells": [
    {
     "cell_type": "markdown",
     "metadata": {},
     "source": [
      "Syllabus\n",
      "==="
     ]
    },
    {
     "cell_type": "markdown",
     "metadata": {},
     "source": [
      "[Home](index.ipynb)"
     ]
    },
    {
     "cell_type": "markdown",
     "metadata": {},
     "source": [
      "Introduction\n",
      "---\n",
      "- What is programming?\n",
      "- What is not programming?\n",
      "- what kinds of things can programmers build?"
     ]
    },
    {
     "cell_type": "markdown",
     "metadata": {},
     "source": [
      "Setting up our programming environment\n",
      "---\n",
      "- [Programming Environment](programming_environment.ipynb)\n",
      "    - Dual-booting Ubuntu\n",
      "    - Maintaining Ubuntu\n",
      "    - Configuring Ubuntu for Python 3.3"
     ]
    },
    {
     "cell_type": "markdown",
     "metadata": {},
     "source": [
      "Python Basics\n",
      "---\n",
      "- [Hello World](hello_world.ipynb)\n",
      "- [Variables, strings, and Numbers](var_string_num.ipynb)\n",
      "- [Lists and Tuples](lists_tuples.ipynb)\n",
      "- [Introducing Functions](introducing_functions.ipynb)\n",
      "- [If Statements](if_statements.ipynb)\n",
      "- [While Loops and Input](while_input.ipynb)\n",
      "- [Basic Terminal Apps](terminal_apps.ipynb)\n",
      "- [Dictionaries](dictionaries.ipynb)\n",
      "- [More Functions](more_functions.ipynb)\n",
      "- [Classes](classes.ipynb)\n",
      "- [Exceptions](exceptions.ipynb)\n",
      "- [Testing](testing.ipynb)"
     ]
    },
    {
     "cell_type": "markdown",
     "metadata": {},
     "source": [
      "Projects in Python\n",
      "---\n",
      "- Text-based Adventure Game\n",
      "- Video Game\n",
      "    - 2-dimensional, straight-line motion game\n",
      "- Visualization\n",
      "    - see [Data is Beautiful](http://www.reddit.com/r/dataisbeautiful) for examples\n",
      "    - [Mapping Global Earthquake Activity](visualization_earthquakes.ipynb)\n",
      "- Simple web application\n",
      "    - for example, a blog that you can make posts to"
     ]
    },
    {
     "cell_type": "markdown",
     "metadata": {},
     "source": [
      "- - -\n",
      "[Home](index.ipynb)"
     ]
    }
   ],
   "metadata": {}
  }
 ]
}