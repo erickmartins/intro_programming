{
 "metadata": {
  "name": "exceptions"
 },
 "nbformat": 3,
 "nbformat_minor": 0,
 "worksheets": [
  {
   "cells": [
    {
     "cell_type": "markdown",
     "metadata": {},
     "source": [
      "Exceptions\n",
      "===\n",
      "Every program has errors while it runs, and has to deal with unexpected behavior and bad input. Exceptions provide a clean way to deal with these situations."
     ]
    },
    {
     "cell_type": "markdown",
     "metadata": {},
     "source": [
      "[Previous: Classes](classes.ipynb) | \n",
      "[Home](index.ipynb) | \n",
      "[Next: Testing](testing.ipynb)"
     ]
    },
    {
     "cell_type": "markdown",
     "metadata": {},
     "source": [
      "Contents\n",
      "==="
     ]
    },
    {
     "cell_type": "markdown",
     "metadata": {},
     "source": [
      "[top](#)"
     ]
    },
    {
     "cell_type": "markdown",
     "metadata": {},
     "source": [
      "- - -\n",
      "[Previous: Classes](classes.ipynb) | \n",
      "[Home](index.ipynb) | \n",
      "[Next: Testing](testing.ipynb)"
     ]
    }
   ],
   "metadata": {}
  }
 ]
}